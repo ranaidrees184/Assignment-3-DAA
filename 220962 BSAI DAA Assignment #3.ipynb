{
 "cells": [
  {
   "cell_type": "code",
   "execution_count": null,
   "metadata": {
    "id": "0F0Q5A978TiI"
   },
   "outputs": [],
   "source": [
    "import numpy as np"
   ]
  },
  {
   "cell_type": "markdown",
   "source": [
    "# Breadth First Search"
   ],
   "metadata": {
    "collapsed": false
   }
  },
  {
   "cell_type": "code",
   "execution_count": 1,
   "metadata": {
    "colab": {
     "base_uri": "https://localhost:8080/"
    },
    "id": "DaXcJD314D3A",
    "outputId": "789a8e5a-5218-4404-e99c-09481d740a87",
    "ExecuteTime": {
     "end_time": "2024-05-11T08:01:09.757468300Z",
     "start_time": "2024-05-11T08:01:06.444654Z"
    }
   },
   "outputs": [
    {
     "name": "stdout",
     "output_type": "stream",
     "text": [
      "Solution found!\n",
      "Number of steps: 21\n",
      "Path:\n",
      "[6, 2, 5]\n",
      "[4, 3, 1]\n",
      "[0, 7, 8]\n",
      "\n",
      "[6, 2, 5]\n",
      "[0, 3, 1]\n",
      "[4, 7, 8]\n",
      "\n",
      "[0, 2, 5]\n",
      "[6, 3, 1]\n",
      "[4, 7, 8]\n",
      "\n",
      "[2, 0, 5]\n",
      "[6, 3, 1]\n",
      "[4, 7, 8]\n",
      "\n",
      "[2, 5, 0]\n",
      "[6, 3, 1]\n",
      "[4, 7, 8]\n",
      "\n",
      "[2, 5, 1]\n",
      "[6, 3, 0]\n",
      "[4, 7, 8]\n",
      "\n",
      "[2, 5, 1]\n",
      "[6, 0, 3]\n",
      "[4, 7, 8]\n",
      "\n",
      "[2, 5, 1]\n",
      "[0, 6, 3]\n",
      "[4, 7, 8]\n",
      "\n",
      "[0, 5, 1]\n",
      "[2, 6, 3]\n",
      "[4, 7, 8]\n",
      "\n",
      "[5, 0, 1]\n",
      "[2, 6, 3]\n",
      "[4, 7, 8]\n",
      "\n",
      "[5, 1, 0]\n",
      "[2, 6, 3]\n",
      "[4, 7, 8]\n",
      "\n",
      "[5, 1, 3]\n",
      "[2, 6, 0]\n",
      "[4, 7, 8]\n",
      "\n",
      "[5, 1, 3]\n",
      "[2, 0, 6]\n",
      "[4, 7, 8]\n",
      "\n",
      "[5, 1, 3]\n",
      "[0, 2, 6]\n",
      "[4, 7, 8]\n",
      "\n",
      "[0, 1, 3]\n",
      "[5, 2, 6]\n",
      "[4, 7, 8]\n",
      "\n",
      "[1, 0, 3]\n",
      "[5, 2, 6]\n",
      "[4, 7, 8]\n",
      "\n",
      "[1, 2, 3]\n",
      "[5, 0, 6]\n",
      "[4, 7, 8]\n",
      "\n",
      "[1, 2, 3]\n",
      "[0, 5, 6]\n",
      "[4, 7, 8]\n",
      "\n",
      "[1, 2, 3]\n",
      "[4, 5, 6]\n",
      "[0, 7, 8]\n",
      "\n",
      "[1, 2, 3]\n",
      "[4, 5, 6]\n",
      "[7, 0, 8]\n",
      "\n",
      "[1, 2, 3]\n",
      "[4, 5, 6]\n",
      "[7, 8, 0]\n",
      "\n",
      "Time Complexity for BSF is O(V+E) or O(b^d)\n"
     ]
    }
   ],
   "source": [
    "def display(state):\n",
    "    for row in state:\n",
    "        print(row)\n",
    "    print()\n",
    "\n",
    "def find_blank(state):\n",
    "    for i in range(3):\n",
    "        for j in range(3):\n",
    "            if state[i][j] == 0:\n",
    "                return i, j\n",
    "\n",
    "def generate_moves(state):\n",
    "    moves = []\n",
    "    row, col = find_blank(state)\n",
    "    if row > 0:\n",
    "        new_board = [x[:] for x in state]\n",
    "        new_board[row][col], new_board[row-1][col] = new_board[row-1][col], new_board[row][col]\n",
    "        moves.append(new_board)\n",
    "    if row < 2:\n",
    "        new_board = [x[:] for x in state]\n",
    "        new_board[row][col], new_board[row+1][col] = new_board[row+1][col], new_board[row][col]\n",
    "        moves.append(new_board)\n",
    "    if col > 0:\n",
    "        new_board = [x[:] for x in state]\n",
    "        new_board[row][col], new_board[row][col-1] = new_board[row][col-1], new_board[row][col]\n",
    "        moves.append(new_board)\n",
    "    if col < 2:\n",
    "        new_board = [x[:] for x in state]\n",
    "        new_board[row][col], new_board[row][col+1] = new_board[row][col+1], new_board[row][col]\n",
    "        moves.append(new_board)\n",
    "    return moves\n",
    "\n",
    "def is_goal_state(state):\n",
    "    goal_state = [[1, 2, 3], [4, 5, 6], [7, 8, 0]]\n",
    "    return state == goal_state\n",
    "\n",
    "def solve(initial_state):\n",
    "    queue = [(initial_state, [])]\n",
    "    visited = set()\n",
    "    while queue:\n",
    "        state, path = queue.pop(0)\n",
    "        if is_goal_state(state):\n",
    "            print(\"Solution found!\")\n",
    "            print(\"Number of steps:\", len(path))\n",
    "            print(\"Path:\")\n",
    "            for step in path:\n",
    "                display(step)\n",
    "            return\n",
    "        visited.add(tuple(map(tuple, state)))\n",
    "        for move in generate_moves(state):\n",
    "            if tuple(map(tuple, move)) not in visited:\n",
    "                queue.append((move, path + [move]))\n",
    "    print(\"No solution found.\")\n",
    "\n",
    "# Example usage:\n",
    "initial_state = [[6, 2, 5], [4, 3, 1], [7, 0, 8]]\n",
    "solve(initial_state)\n",
    "print(\"Time Complexity for BSF is O(V+E) or O(b^d)\")"
   ]
  },
  {
   "cell_type": "markdown",
   "source": [
    "# Depth First Search"
   ],
   "metadata": {
    "collapsed": false
   }
  },
  {
   "cell_type": "code",
   "execution_count": 4,
   "outputs": [
    {
     "name": "stdout",
     "output_type": "stream",
     "text": [
      "DFS traversal starting from vertex 2:\n",
      "2 3 0 1 \n",
      "Time Complexity of Depth First Search is O(b^m)\n"
     ]
    }
   ],
   "source": [
    "def dfs(graph, start):\n",
    "    visited = set()\n",
    "    stack = [start]\n",
    "\n",
    "    while stack:\n",
    "        vertex = stack.pop()\n",
    "        if vertex not in visited:\n",
    "            print(vertex, end=' ')\n",
    "            visited.add(vertex)\n",
    "            stack.extend(graph[vertex] - visited)\n",
    "\n",
    "graph = {\n",
    "    0: {1, 2},\n",
    "    1: {2},\n",
    "    2: {0, 3},\n",
    "    3: {3}\n",
    "}\n",
    "\n",
    "print(\"DFS traversal starting from vertex 2:\")\n",
    "dfs(graph, 2)\n",
    "print(\"\\nTime Complexity of Depth First Search is O(b^m)\")\n"
   ],
   "metadata": {
    "collapsed": false,
    "ExecuteTime": {
     "end_time": "2024-05-11T08:09:47.311013600Z",
     "start_time": "2024-05-11T08:09:47.235978Z"
    }
   }
  },
  {
   "cell_type": "markdown",
   "source": [
    "# Dijkstra Algorithm"
   ],
   "metadata": {
    "collapsed": false
   }
  },
  {
   "cell_type": "code",
   "execution_count": 6,
   "outputs": [
    {
     "name": "stdout",
     "output_type": "stream",
     "text": [
      "Shortest distances from vertex A :\n",
      "Vertex: A Distance: 0\n",
      "Vertex: B Distance: 4\n",
      "Vertex: C Distance: 2\n",
      "Vertex: D Distance: 9\n",
      "Time Complexity for Dijkstra Algorithm is O((V+E)logV)\n"
     ]
    }
   ],
   "source": [
    "import heapq\n",
    "\n",
    "def dijkstra(graph, start):\n",
    "    distances = {vertex: float('inf') for vertex in graph}\n",
    "    distances[start] = 0\n",
    "    pq = [(0, start)]\n",
    "\n",
    "    while pq:\n",
    "        current_distance, current_vertex = heapq.heappop(pq)\n",
    "\n",
    "        if current_distance > distances[current_vertex]:\n",
    "            continue\n",
    "\n",
    "        for neighbor, weight in graph[current_vertex].items():\n",
    "            distance = current_distance + weight\n",
    "            if distance < distances[neighbor]:\n",
    "                distances[neighbor] = distance\n",
    "                heapq.heappush(pq, (distance, neighbor))\n",
    "\n",
    "    return distances\n",
    "\n",
    "graph = {\n",
    "    'A': {'B': 4, 'C': 2},\n",
    "    'B': {'A': 4, 'D': 5},\n",
    "    'C': {'A': 2, 'D': 7},\n",
    "    'D': {'B': 5, 'C': 7}\n",
    "}\n",
    "\n",
    "start_vertex = 'A'\n",
    "print(\"Shortest distances from vertex\", start_vertex, \":\")\n",
    "shortest_distances = dijkstra(graph, start_vertex)\n",
    "for vertex, distance in shortest_distances.items():\n",
    "    print(\"Vertex:\", vertex, \"Distance:\", distance)\n",
    "    \n",
    "print(\"Time Complexity for Dijkstra Algorithm is O((V+E)logV)\")    \n"
   ],
   "metadata": {
    "collapsed": false,
    "ExecuteTime": {
     "end_time": "2024-05-11T08:13:56.685991800Z",
     "start_time": "2024-05-11T08:13:56.620039400Z"
    }
   }
  }
 ],
 "metadata": {
  "colab": {
   "provenance": []
  },
  "kernelspec": {
   "name": "python3",
   "language": "python",
   "display_name": "Python 3 (ipykernel)"
  },
  "language_info": {
   "name": "python"
  }
 },
 "nbformat": 4,
 "nbformat_minor": 0
}
